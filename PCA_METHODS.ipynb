{
  "nbformat": 4,
  "nbformat_minor": 0,
  "metadata": {
    "colab": {
      "provenance": [],
      "authorship_tag": "ABX9TyPFcj6ZGRdVznb3gWO8+pod",
      "include_colab_link": true
    },
    "kernelspec": {
      "name": "python3",
      "display_name": "Python 3"
    },
    "language_info": {
      "name": "python"
    }
  },
  "cells": [
    {
      "cell_type": "markdown",
      "metadata": {
        "id": "view-in-github",
        "colab_type": "text"
      },
      "source": [
        "<a href=\"https://colab.research.google.com/github/sriramreddy-7/ML/blob/main/PCA_METHODS.ipynb\" target=\"_parent\"><img src=\"https://colab.research.google.com/assets/colab-badge.svg\" alt=\"Open In Colab\"/></a>"
      ]
    },
    {
      "cell_type": "code",
      "execution_count": 4,
      "metadata": {
        "id": "k0pmOK05bRI7"
      },
      "outputs": [],
      "source": [
        "from sklearn.decomposition import PCA\n",
        "from sklearn.datasets import load_iris\n",
        "from sklearn.model_selection import train_test_split\n"
      ]
    },
    {
      "cell_type": "markdown",
      "source": [
        "## Load a sample dataset"
      ],
      "metadata": {
        "id": "QSyvdVShbkEy"
      }
    },
    {
      "cell_type": "code",
      "source": [
        "data = load_iris()\n",
        "X = data.data\n",
        "y = data.target\n",
        "\n"
      ],
      "metadata": {
        "id": "Egr_MDRybdhs"
      },
      "execution_count": 5,
      "outputs": []
    },
    {
      "cell_type": "markdown",
      "source": [
        "# Split the data\n"
      ],
      "metadata": {
        "id": "UcaU9H4ObqAF"
      }
    },
    {
      "cell_type": "code",
      "source": [
        "X_train, X_test, y_train, y_test = train_test_split(X, y, test_size=0.3, random_state=42)"
      ],
      "metadata": {
        "id": "LVCtOtRwbtnC"
      },
      "execution_count": 6,
      "outputs": []
    },
    {
      "cell_type": "markdown",
      "source": [
        "## PCA"
      ],
      "metadata": {
        "id": "LNdtxVsWbyOZ"
      }
    },
    {
      "cell_type": "code",
      "source": [
        "# Initialize PCA, keeping only 2 components\n",
        "pca = PCA(n_components=2)\n",
        "\n",
        "# Fit PCA on the training set and transform\n",
        "X_train_pca = pca.fit_transform(X_train)\n",
        "\n",
        "# Transform the test set (without fitting again)\n",
        "X_test_pca = pca.transform(X_test)\n",
        "\n",
        "# View the amount of variance explained by each component\n",
        "print(\"Explained Variance Ratio:\", pca.explained_variance_ratio_)\n",
        "\n",
        "# View the principal components\n",
        "print(\"Principal Components:\\n\", pca.components_)\n",
        "\n",
        "# Inverse transform to approximate the original data\n",
        "X_train_approx = pca.inverse_transform(X_train_pca)"
      ],
      "metadata": {
        "colab": {
          "base_uri": "https://localhost:8080/"
        },
        "id": "16R5Y7tNbe1Z",
        "outputId": "bc4d9436-9e63-4b6e-a2d2-40885ededf59"
      },
      "execution_count": 7,
      "outputs": [
        {
          "output_type": "stream",
          "name": "stdout",
          "text": [
            "Explained Variance Ratio: [0.9191876  0.05549301]\n",
            "Principal Components:\n",
            " [[ 0.37167593 -0.06299273  0.85531578  0.35542065]\n",
            " [ 0.66585782  0.71303104 -0.19438974 -0.10214078]]\n"
          ]
        }
      ]
    }
  ]
}